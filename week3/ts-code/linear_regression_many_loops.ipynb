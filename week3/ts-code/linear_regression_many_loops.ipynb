{
 "cells": [
  {
   "cell_type": "code",
   "execution_count": 4,
   "metadata": {},
   "outputs": [],
   "source": [
    "import numpy as np\n",
    "import random\n",
    "import time"
   ]
  },
  {
   "cell_type": "markdown",
   "metadata": {},
   "source": [
    "# inference 预测模型y=wx+b"
   ]
  },
  {
   "cell_type": "code",
   "execution_count": 6,
   "metadata": {},
   "outputs": [],
   "source": [
    "def inference(w,b,x):\n",
    "    pred_y = w * x + b\n",
    "    return pred_y\n"
   ]
  },
  {
   "cell_type": "markdown",
   "metadata": {},
   "source": [
    "# cost function:L(w,b)"
   ]
  },
  {
   "cell_type": "code",
   "execution_count": 7,
   "metadata": {},
   "outputs": [],
   "source": [
    "#cost function:L(w,b)\n",
    "def eval_loss(w,b,x_list,gt_y_list):\n",
    "    avg_loss = 0\n",
    "    for i in range(len(x_list)):\n",
    "        avg_loss += 0.5 * (w * x_list[i] + b - gt_y_list[i]) ** 2\n",
    "    avg_loss /= len(gt_y_list)\n",
    "    return avg_loss"
   ]
  },
  {
   "cell_type": "markdown",
   "metadata": {},
   "source": [
    "# 梯度计算"
   ]
  },
  {
   "cell_type": "code",
   "execution_count": 8,
   "metadata": {},
   "outputs": [],
   "source": [
    "#单一样本带来的梯度,gt是ground trust真实值的缩写。\n",
    "def gradient(pred_y, gt_y, x):\n",
    "    diff = pred_y - gt_y\n",
    "    dw = diff * x   # 对w求导（梯度），因为是单一样本，故前面系数刚好是1\n",
    "    db = diff       # 对b求导（梯度），因为是单一样本，故前面系数刚好是1\n",
    "    return dw,db"
   ]
  },
  {
   "cell_type": "markdown",
   "metadata": {},
   "source": [
    "# 由上面单一样本梯度计算batch size个数的样本带来的梯度"
   ]
  },
  {
   "cell_type": "code",
   "execution_count": 9,
   "metadata": {},
   "outputs": [],
   "source": [
    "#batch_size个样本（batchsize）求得的w和b\n",
    "def cal_step_gradient(batch_x_list, batch_gt_y_list, w, b ,lr):\n",
    "    avg_dw, avg_db = 0, 0\n",
    "    batch_size = len(batch_x_list)\n",
    "    for i in range(batch_size):\n",
    "        pred_y = inference(w, b, batch_x_list[i])\n",
    "        dw, db = gradient(pred_y, batch_gt_y_list[i], batch_x_list[i])  \n",
    "        avg_dw += dw\n",
    "        avg_db += db\n",
    "    avg_dw /= batch_size\n",
    "    avg_db /= batch_size\n",
    "    w -= lr * avg_dw\n",
    "    b -= lr * avg_db\n",
    "    return w,b"
   ]
  },
  {
   "cell_type": "markdown",
   "metadata": {},
   "source": [
    "# 随机生成x_list和y_list数据集"
   ]
  },
  {
   "cell_type": "code",
   "execution_count": 10,
   "metadata": {},
   "outputs": [],
   "source": [
    "def gen_sample_data():\n",
    "    w = random.randint(0,10) + random.random()\n",
    "    b = random.randint(0, 5) + random.random()\n",
    "    \n",
    "    num_sample = 100\n",
    "    x_list = []\n",
    "    y_list = []\n",
    "    print(w,b)\n",
    "    for i in range(num_sample):\n",
    "        x = random.randint(0,100) * random.random()\n",
    "        y = w * x + b + random.random() * random.randint(-1, 100)\n",
    "        # random.random() * random.randint(-1, 100)这部分为噪声\n",
    "        x_list.append(x)\n",
    "        y_list.append(y)\n",
    "        \n",
    "    return x_list, y_list"
   ]
  },
  {
   "cell_type": "code",
   "execution_count": 14,
   "metadata": {},
   "outputs": [
    {
     "name": "stdout",
     "output_type": "stream",
     "text": [
      "3.6762265657308717 0.3531720030481512\n"
     ]
    },
    {
     "data": {
      "image/png": "[encoded data removed]",
      "text/plain": [
       "<Figure size 432x288 with 1 Axes>"
      ]
     },
     "metadata": {
      "needs_background": "light"
     },
     "output_type": "display_data"
    }
   ],
   "source": [
    "x_list, y_list = gen_sample_data()\n",
    "\n",
    "import matplotlib.pyplot as plt\n",
    "\n",
    "plt.figure()\n",
    "plt.scatter(x_list, y_list)   # 画出x_list和y_list组成的散点图\n",
    "plt.show()"
   ]
  },
  {
   "cell_type": "markdown",
   "metadata": {},
   "source": [
    "# 对上面随机生成的数据集进行线性回归拟合，看w，b是否一致"
   ]
  },
  {
   "cell_type": "code",
   "execution_count": 15,
   "metadata": {},
   "outputs": [],
   "source": [
    "def train(x_list, gt_y_list, batch_size, lr, max_iter):  \n",
    "    # max_iter是迭代次数，batch_size表征的是从总体样本中抽取batch_size个子样本进行线性回归拟合\n",
    "    # lr学习率learn rate也就是步长，一般取的很小\n",
    "    w = 0\n",
    "    b = 0\n",
    "    num_samples = len(x_list)\n",
    "    for i in range(max_iter):\n",
    "        batch_idxs = np.random.choice(len(x_list), batch_size) \n",
    "        # 从x_list的长度中随机抽取batch_size个数赋给batch_idxs\n",
    "        # 简单说随机生成的batch_idxs作为batch_x的角标\n",
    "        batch_x = [x_list[j] for j in batch_idxs]\n",
    "        # batch_x是x_list的一个子集，其包含数目是batch_size个数\n",
    "        batch_y = [gt_y_list[j] for j in batch_idxs]\n",
    "        # batch_y是gt_y_list的一个子集\n",
    "        w, b = cal_step_gradient(batch_x, batch_y, w, b, lr)\n",
    "        # w,b进行迭代梯度计算\n",
    "        print('w:{0},b:{1}'.format(w,b))\n",
    "        # format格式是将format（）中内容往前面传，即format（）括号中第1个给w，第2个给b\n",
    "        print('loss is {}'.format(eval_loss(w,b,x_list,gt_y_list)))\n",
    "        time.sleep(0.1)\n",
    "        \n",
    "    return w,b"
   ]
  },
  {
   "cell_type": "code",
   "execution_count": 19,
   "metadata": {},
   "outputs": [
    {
     "name": "stdout",
     "output_type": "stream",
     "text": [
      "w:3.3811303626557274,b:0.096152456273577\n",
      "loss is 819.3359163816342\n",
      "w:4.017173210209452,b:0.12759706987521163\n",
      "loss is 479.9690321550599\n",
      "w:4.320839180564928,b:0.1495492938590845\n",
      "loss is 423.11457208814704\n",
      "w:4.124183687043244,b:0.1584573751448386\n",
      "loss is 451.7564356449555\n",
      "w:4.448256708935971,b:0.17902608973603126\n",
      "loss is 419.3145615757526\n",
      "w:4.443785068423473,b:0.18762313888507673\n",
      "loss is 419.1331749865728\n",
      "w:4.1986939073029115,b:0.19728391777189763\n",
      "loss is 436.8848464154328\n",
      "w:4.443154566889797,b:0.2136587561876661\n",
      "loss is 418.825250087934\n",
      "w:4.346573399962008,b:0.2337183353013185\n",
      "loss is 420.3358354884147\n",
      "w:4.3345500853153505,b:0.24673163753035915\n",
      "loss is 420.85791915776855\n",
      "w:4.426959769600654,b:0.2614484294870024\n",
      "loss is 418.0854385450369\n",
      "w:4.4720349861059505,b:0.2739114630702892\n",
      "loss is 418.97506555913765\n",
      "w:4.628846440975624,b:0.2851758418398578\n",
      "loss is 434.13600722384916\n",
      "w:4.554307953111178,b:0.29484915697773806\n",
      "loss is 424.52601296154506\n",
      "w:4.528956279052773,b:0.30814470713131537\n",
      "loss is 422.08615257661376\n",
      "w:4.500578149302951,b:0.31993019103781734\n",
      "loss is 419.93270994102977\n",
      "w:4.465158483551924,b:0.3268870283209853\n",
      "loss is 418.1430510734515\n",
      "w:4.645558695143548,b:0.3447145853202153\n",
      "loss is 436.387419255567\n",
      "w:4.595853809676252,b:0.3567572224043558\n",
      "loss is 428.8161779089434\n",
      "w:4.513691809481859,b:0.3666800220345349\n",
      "loss is 420.336911617975\n",
      "w:4.471016797556048,b:0.376988657282191\n",
      "loss is 417.8255907896089\n",
      "w:4.644412705882086,b:0.39496392247539996\n",
      "loss is 435.82133318965765\n",
      "w:4.714442610006719,b:0.4054160362085228\n",
      "loss is 449.3760436807108\n",
      "w:4.405006352846464,b:0.40797599709453203\n",
      "loss is 416.3685423621722\n",
      "w:4.201061509190992,b:0.418723390343872\n",
      "loss is 432.9790703988063\n",
      "w:4.365223028169631,b:0.43392320474628704\n",
      "loss is 416.90990790575466\n",
      "w:4.4960838140641854,b:0.44523996593885334\n",
      "loss is 418.3819240137455\n",
      "w:4.412170015011263,b:0.45332792177752174\n",
      "loss is 415.80151605424095\n",
      "w:4.524708256024005,b:0.46576634748316603\n",
      "loss is 420.21762004615465\n",
      "w:4.489572229036094,b:0.4802151085685599\n",
      "loss is 417.64423537631177\n",
      "w:4.210036223447952,b:0.4824766559037697\n",
      "loss is 430.60464747600764\n",
      "w:4.336567976130687,b:0.49989688997924664\n",
      "loss is 417.3750888191064\n",
      "w:4.258046034519314,b:0.5100901511865541\n",
      "loss is 423.8806706001585\n",
      "w:4.39154644361196,b:0.523547909513748\n",
      "loss is 415.1304803294144\n",
      "w:4.30422476647019,b:0.5346237866559528\n",
      "loss is 419.0895318842922\n",
      "w:4.383448989181004,b:0.5476482620174509\n",
      "loss is 414.9812518637971\n",
      "w:4.371566007462897,b:0.5613730817294053\n",
      "loss is 415.10573451475716\n",
      "w:4.57589089817495,b:0.5783508168616168\n",
      "loss is 424.4100430281378\n",
      "w:4.621857644313215,b:0.5884064238023214\n",
      "loss is 430.70703205881875\n",
      "w:4.206684133166236,b:0.592545926053074\n",
      "loss is 429.39571630074187\n",
      "w:4.491214278059119,b:0.6131236415252972\n",
      "loss is 416.3873998214582\n",
      "w:4.432347962009602,b:0.6265336245693356\n",
      "loss is 413.97459949389287\n",
      "w:4.556173433621071,b:0.6418990553724837\n",
      "loss is 421.5892012249068\n",
      "w:4.402735519071344,b:0.64916264982948\n",
      "loss is 413.52711016873974\n",
      "w:4.4447186990761365,b:0.6600567688720461\n",
      "loss is 413.87464641914863\n",
      "w:4.315031213853042,b:0.672056298265597\n",
      "loss is 416.4308359702162\n",
      "w:4.200456186561736,b:0.6823800232004156\n",
      "loss is 428.9420325470974\n",
      "w:4.253947026031956,b:0.6967062394815667\n",
      "loss is 421.62630780183855\n",
      "w:4.352526338333078,b:0.7118118459543589\n",
      "loss is 413.87922147878635\n",
      "w:4.496766001784079,b:0.727723130418037\n",
      "loss is 415.5942686512182\n",
      "w:4.415849553327323,b:0.7396563212699409\n",
      "loss is 412.4981096882885\n",
      "w:4.472290853596791,b:0.7536065898797838\n",
      "loss is 413.92337662527984\n",
      "w:4.610096608726117,b:0.7668758411761165\n",
      "loss is 427.538583846637\n",
      "w:4.354513130098609,b:0.7728189151826145\n",
      "loss is 413.0348766192064\n",
      "w:4.262204740480772,b:0.783627287313115\n",
      "loss is 419.47491279991397\n",
      "w:4.397247181705658,b:0.8002561190095879\n",
      "loss is 411.78434865668316\n",
      "w:4.376824237943945,b:0.8095417307583973\n",
      "loss is 411.9381378614531\n",
      "w:4.271825572479188,b:0.8197957149391991\n",
      "loss is 417.98807559746245\n",
      "w:4.504843251223966,b:0.8339946626265644\n",
      "loss is 415.1268654020982\n",
      "w:4.319016072926728,b:0.8393363685521679\n",
      "loss is 413.9527896161494\n",
      "w:4.407923900595198,b:0.8576086628479189\n",
      "loss is 411.11036210892024\n",
      "w:4.3157783817586015,b:0.8689949731241408\n",
      "loss is 413.7675229999269\n",
      "w:4.583670832945545,b:0.8900292933905897\n",
      "loss is 422.8179768741045\n",
      "w:4.454131851119325,b:0.8957555281875313\n",
      "loss is 411.6531532915313\n",
      "w:4.437084349504536,b:0.9067612837843911\n",
      "loss is 410.99018118668323\n",
      "w:4.469895850472505,b:0.9164450401530952\n",
      "loss is 412.13514096856204\n",
      "w:4.308569334361446,b:0.9225998927019802\n",
      "loss is 413.53744464801093\n",
      "w:4.490248735461919,b:0.935958470384487\n",
      "loss is 413.1172907494973\n",
      "w:4.413011883116767,b:0.9444833151173402\n",
      "loss is 410.1566127625283\n",
      "w:4.436196807013414,b:0.9573782694125224\n",
      "loss is 410.4199341183588\n",
      "w:4.434897079789509,b:0.9673950911183046\n",
      "loss is 410.278269083907\n",
      "w:4.4008686293900805,b:0.979498371075764\n",
      "loss is 409.70236687246046\n",
      "w:4.5908242928737915,b:0.9951933195805206\n",
      "loss is 422.96288856804875\n",
      "w:4.544784771230913,b:1.0045183452251045\n",
      "loss is 417.1864327583034\n",
      "w:4.492971152307104,b:1.0122907371890077\n",
      "loss is 412.55798243653817\n",
      "w:4.426597314393931,b:1.0206913169828367\n",
      "loss is 409.51002464703265\n",
      "w:4.279841321960216,b:1.0310243733459519\n",
      "loss is 414.3174847754282\n",
      "w:4.238932572133567,b:1.0425329265567016\n",
      "loss is 418.3474183298162\n",
      "w:4.425990915084962,b:1.058267195633614\n",
      "loss is 409.08810226389556\n",
      "w:4.606859600160718,b:1.0740093338030101\n",
      "loss is 424.72342496428274\n",
      "w:4.566284804071798,b:1.0845805462457496\n",
      "loss is 418.9962581472123\n",
      "w:4.543873662285379,b:1.09656416046847\n",
      "loss is 416.29243714775583\n",
      "w:4.587700864345736,b:1.1056163991906998\n",
      "loss is 421.6630224400836\n",
      "w:4.518690434491619,b:1.1142794114947927\n",
      "loss is 413.6446463431974\n",
      "w:4.337605277833728,b:1.1215416878487605\n",
      "loss is 409.3538791241915\n",
      "w:4.343975979119879,b:1.1299580318287004\n",
      "loss is 408.9888169822389\n",
      "w:4.394138777960829,b:1.1438676355760509\n",
      "loss is 407.82713561947065\n",
      "w:4.368868523458544,b:1.15368688704881\n",
      "loss is 407.9776139289899\n",
      "w:4.360487164256771,b:1.1687336566849071\n",
      "loss is 407.98747592729006\n",
      "w:4.343613363684203,b:1.1774952651557706\n",
      "loss is 408.4155507004748\n",
      "w:4.3119517873051105,b:1.1883949213651976\n",
      "loss is 409.84084293663614\n",
      "w:4.379170508988797,b:1.2028959362884284\n",
      "loss is 407.24039083353557\n",
      "w:4.449406228644476,b:1.218772424429121\n",
      "loss is 408.10777427508197\n",
      "w:4.574004660401615,b:1.2357003285244466\n",
      "loss is 418.77231956652673\n",
      "w:4.454929769676655,b:1.2416734850699465\n",
      "loss is 408.111678643907\n",
      "w:4.281639806031093,b:1.249127699980721\n",
      "loss is 411.2074629463433\n",
      "w:4.51741163585546,b:1.2618540049140015\n",
      "loss is 412.19899450180327\n",
      "w:4.313480051927484,b:1.27238122742259\n",
      "loss is 408.66950239312473\n",
      "w:4.4318781693867,b:1.28571884548929\n",
      "loss is 406.7970035073571\n",
      "w:4.530794025142698,b:1.2988060711295735\n",
      "loss is 413.1712373579594\n"
     ]
    },
    {
     "data": {
      "text/plain": [
       "(4.530794025142698, 1.2988060711295735)"
      ]
     },
     "execution_count": 19,
     "metadata": {},
     "output_type": "execute_result"
    }
   ],
   "source": [
    "train(x_list, y_list, 60, 0.001, 100)"
   ]
  },
  {
   "cell_type": "code",
   "execution_count": null,
   "metadata": {},
   "outputs": [],
   "source": []
  }
 ],
 "metadata": {
  "kernelspec": {
   "display_name": "Python 3",
   "language": "python",
   "name": "python3"
  },
  "language_info": {
   "codemirror_mode": {
    "name": "ipython",
    "version": 3
   },
   "file_extension": ".py",
   "mimetype": "text/x-python",
   "name": "python",
   "nbconvert_exporter": "python",
   "pygments_lexer": "ipython3",
   "version": "3.7.4"
  }
 },
 "nbformat": 4,
 "nbformat_minor": 2
}
